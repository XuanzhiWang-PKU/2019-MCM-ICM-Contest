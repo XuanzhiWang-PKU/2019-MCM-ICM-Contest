{
 "cells": [
  {
   "cell_type": "code",
   "execution_count": 1,
   "metadata": {},
   "outputs": [],
   "source": [
    "import plotly.offline as py\n",
    "import plotly.figure_factory as ff\n",
    "\n",
    "import numpy as np\n",
    "import pandas as pd"
   ]
  },
  {
   "cell_type": "code",
   "execution_count": 2,
   "metadata": {
    "scrolled": true
   },
   "outputs": [],
   "source": [
    "import plotly\n",
    "plotly.tools.set_credentials_file(username='seekecho', api_key='DcTwbM26jYYy5A3XoG0x')"
   ]
  },
  {
   "cell_type": "code",
   "execution_count": 3,
   "metadata": {},
   "outputs": [],
   "source": [
    "df_sample = pd.read_excel('../2019_MCMProblemC_DATA/totalReportsIn8YR.xlsx')"
   ]
  },
  {
   "cell_type": "code",
   "execution_count": 7,
   "metadata": {},
   "outputs": [],
   "source": [
    "def drawYr(year):\n",
    "    values = df_sample[str(year)].tolist()\n",
    "    fips = df_sample['Code'].tolist()\n",
    "    values = [int(v) for v in values]\n",
    "    endpts = [30, 50, 100, 500, 1000, 3000, 5000]\n",
    "    colorscale = [\n",
    "        'rgb(255,255,204)',\n",
    "        'rgb(255,237,160)',\n",
    "        'rgb(254,217,118)',\n",
    "        'rgb(254,178,76)',\n",
    "        'rgb(253,141,60)',\n",
    "        'rgb(252,78,42)',\n",
    "        'rgb(227,26,28)',\n",
    "        'rgb(177,0,38)'\n",
    "    ]\n",
    "\n",
    "    fig = ff.create_choropleth(\n",
    "        fips=fips, values=values,\n",
    "        scope=['KY', 'OH', 'WV', 'VA', 'PA'],\n",
    "        county_outline={'color': 'rgb(255,255,255)', 'width': 0.5},\n",
    "        state_outline={'color': 'rgb(255,255,255)', 'width': 3},\n",
    "        legend_title='Total Drug Reports, ' + str(year),\n",
    "        show_state_data=True,\n",
    "        show_hover=True,\n",
    "        binning_endpoints=endpts,\n",
    "        colorscale=colorscale,\n",
    "        simplify_county=0,\n",
    "        simplify_state=0,\n",
    "        round_legend_values=True\n",
    "    )\n",
    "    fig['layout']['legend'].update({'x': 0})\n",
    "    fig['layout']['annotations'][0].update({'x': -0.12, 'xanchor': 'left'})\n",
    "    py.plot(fig, filename='year' + str(year) + '.html')\n",
    "def drawDiff(yr1, yr2):\n",
    "    val1 = df_sample[str(yr1)].tolist()\n",
    "    val2 = df_sample[str(yr2)].tolist()\n",
    "    values = list(map(lambda x: x[0]-x[1], zip(val2, val1)))\n",
    "    fips = df_sample['Code'].tolist()\n",
    "    values = [int(v) for v in values]\n",
    "    endpts = [-500, -100, -30, 0, 30, 100, 500]\n",
    "    colorscale = [\n",
    "        'rgb(69,117,180)',\n",
    "        'rgb(116,173,209)',\n",
    "        'rgb(171,217,233)',\n",
    "        'rgb(224,243,248)',\n",
    "        'rgb(254,224,144)',\n",
    "        'rgb(253,174,97)',\n",
    "        'rgb(244,109,67)',\n",
    "        'rgb(215,48,39)'\n",
    "    ]\n",
    "\n",
    "    fig = ff.create_choropleth(\n",
    "        fips=fips, values=values,\n",
    "        scope=['KY', 'OH', 'WV', 'VA', 'PA'],\n",
    "        county_outline={'color': 'rgb(255,255,255)', 'width': 0.5},\n",
    "        state_outline={'color': 'rgb(255,255,255)', 'width': 3},\n",
    "        legend_title='Total Drug Reports Diff, ' + str(yr1) + ' - ' + str(yr2),\n",
    "        show_state_data=True,\n",
    "        show_hover=True,\n",
    "        binning_endpoints=endpts,\n",
    "        colorscale=colorscale,\n",
    "        simplify_county=0,\n",
    "        simplify_state=0,\n",
    "        round_legend_values=True\n",
    "#         tit\n",
    "    #     fillcolor='rgb(0, 0, 0)'\n",
    "    )\n",
    "    fig['layout']['legend'].update({'x': 0})\n",
    "    fig['layout']['annotations'][0].update({'x': -0.12, 'xanchor': 'left'})\n",
    "    py.plot(fig, filename='Diff' + str(yr1) + '-' + str(yr2) + '.html')"
   ]
  },
  {
   "cell_type": "code",
   "execution_count": 8,
   "metadata": {},
   "outputs": [
    {
     "name": "stdout",
     "output_type": "stream",
     "text": [
      "2010\n",
      "2011\n",
      "2012\n",
      "2013\n",
      "2014\n",
      "2015\n",
      "2016\n",
      "2017\n"
     ]
    }
   ],
   "source": [
    "for i in range(2010, 2018):\n",
    "    drawYr(str(i))\n",
    "    print(i)\n",
    "# drawYr(2017)"
   ]
  },
  {
   "cell_type": "code",
   "execution_count": 6,
   "metadata": {},
   "outputs": [],
   "source": [
    "drawDiff(2016, 2015)"
   ]
  },
  {
   "cell_type": "code",
   "execution_count": 106,
   "metadata": {},
   "outputs": [],
   "source": [
    "import matplotlib.pyplot as plt"
   ]
  },
  {
   "cell_type": "code",
   "execution_count": 107,
   "metadata": {},
   "outputs": [
    {
     "data": {
      "image/png": "[encoded data removed]",
      "text/plain": [
       "<Figure size 432x288 with 1 Axes>"
      ]
     },
     "metadata": {
      "needs_background": "light"
     },
     "output_type": "display_data"
    }
   ],
   "source": [
    "latitude = [36.78221, 37.219307000000000, 40.027145300000000, 36.567548000000000, 36.594320400000000, 38.749901300000000, 42.129471200000000, 41.774668500000000, 41.501822400000000, 39.952415200000000]\n",
    "longitude = [-84.825084800000000, -78.435148000000000, -78.523744700000000, -89.184276000000000, -75.887601400000000, -82.052456000000000, -80.085269500000000, -76.526461300000000, -84.592378500000000, -75.163575500000000]\n",
    "plt.scatter(longitude, latitude)\n",
    "plt.show()"
   ]
  }
 ],
 "metadata": {
  "kernelspec": {
   "display_name": "Python 3",
   "language": "python",
   "name": "python3"
  },
  "language_info": {
   "codemirror_mode": {
    "name": "ipython",
    "version": 3
   },
   "file_extension": ".py",
   "mimetype": "text/x-python",
   "name": "python",
   "nbconvert_exporter": "python",
   "pygments_lexer": "ipython3",
   "version": "3.7.0"
  }
 },
 "nbformat": 4,
 "nbformat_minor": 2
}
