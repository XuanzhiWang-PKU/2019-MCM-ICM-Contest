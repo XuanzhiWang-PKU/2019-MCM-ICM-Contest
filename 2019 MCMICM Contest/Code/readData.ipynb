{
 "cells": [
  {
   "cell_type": "code",
   "execution_count": 1,
   "metadata": {},
   "outputs": [],
   "source": [
    "import pandas as pd"
   ]
  },
  {
   "cell_type": "code",
   "execution_count": 2,
   "metadata": {},
   "outputs": [],
   "source": [
    "def readExcel(path='../2019_MCMProblemC_DATA/MCM_NFLIS_Data.xlsx'):\n",
    "    return pd.read_excel(path, sheet_name='Data')"
   ]
  },
  {
   "cell_type": "code",
   "execution_count": 26,
   "metadata": {},
   "outputs": [],
   "source": [
    "def getCounties(excelData=None):\n",
    "#     if not any(excelData):\n",
    "#         excel = readExcel()\n",
    "#     return {i for i in excelData['COUNTY']}\n",
    "    return ['HAMILTON', 'ROANE', 'SUMMERS', 'BOYD', 'GRAVES', 'OLDHAM', 'HENRICO', 'WYTHE', 'MONROE', 'ORANGE', 'WARREN', 'CENTRE', 'CARBON', 'COLONIAL HEIGHTS CITY', 'ASHLAND', 'LEE', 'HOPEWELL CITY', 'MCDOWELL', 'CHESTER', 'BEAVER', 'PHILADELPHIA', 'MEIGS', 'DELAWARE', 'CASEY', 'SPENCER', 'JUNIATA', 'WEBSTER', 'SUFFOLK CITY', 'TIOGA', 'CHAMPAIGN', 'LACKAWANNA', 'MINGO', 'PETERSBURG CITY', 'CARROLL', 'ASHTABULA', 'BERKELEY', 'RAPPAHANNOCK', 'DARKE', 'LEWIS', 'SHENANDOAH', 'HUNTINGDON', 'LYNCHBURG CITY', 'RALEIGH', 'POCAHONTAS', 'MORGAN', 'DICKENSON', 'MUHLENBERG', 'COSHOCTON', 'ADAMS', 'ARMSTRONG', 'CHESAPEAKE CITY', 'INDIANA', 'PIKE', 'OTTAWA', 'GALAX CITY', 'LEXINGTON CITY', 'MASON', 'LEBANON', 'VIRGINIA BEACH CITY', 'JACKSON', 'MARION', 'MARSHALL', 'SOUTHAMPTON', 'WILLIAMSBURG CITY', 'ESTILL', 'MERCER', 'BOONE', 'MEDINA', 'CLARION', 'POWHATAN', 'BUCKINGHAM', 'CRITTENDEN', 'SCHUYLKILL', 'ALBEMARLE', 'HARRISON', 'LUNENBURG', 'OWEN', 'NORFOLK CITY', 'PORTSMOUTH CITY', 'CLARKE', 'MCCREARY', 'MARTIN', 'BUENA VISTA CITY', 'LORAIN', 'GARRARD', 'JEFFERSON', 'GILMER', 'WYOMING', 'WAYNESBORO CITY', 'STAUNTON CITY', 'FULTON', 'NORTHAMPTON', 'WETZEL', 'LICKING', 'CAMPBELL', 'WOLFE', 'FAIRFIELD', 'MONTGOMERY', 'GUERNSEY', 'PATRICK', 'LINCOLN', 'BARBOUR', 'HARDY', 'ACCOMACK', 'GREEN', 'HART', 'PUTNAM', 'CHARLES CITY', 'SNYDER', 'WYANDOT', 'FAIRFAX CITY', 'VENANGO', 'MENIFEE', 'ROWAN', 'SANDUSKY', 'JAMES CITY', 'BELMONT', 'WILLIAMS', 'PRESTON', 'LIVINGSTON', 'COLUMBIA', 'TAYLOR', 'MONTOUR', 'ISLE OF WIGHT', 'SIMPSON', 'GREENBRIER', 'UPSHUR', 'BRAXTON', 'MANASSAS CITY', 'BEDFORD', 'CRAIG', 'LYCOMING', 'CHARLOTTE', 'FRANKLIN CITY', 'MATHEWS', 'CALDWELL', 'KNOX', 'PREBLE', 'PICKAWAY', 'CULPEPER', 'GRAYSON', 'POTTER', 'ALLEGHENY', 'BULLITT', 'HANCOCK', 'LOGAN', 'WINCHESTER CITY', 'BEDFORD CITY', 'JESSAMINE', 'HAMPSHIRE', 'ELLIOTT', 'LUZERNE', 'COVINGTON CITY', 'WIRT', 'NORTHUMBERLAND', 'HICKMAN', 'SALEM', 'BARREN', 'CHRISTIAN', 'PULASKI', 'MCCRACKEN', 'BOURBON', 'RICHLAND', 'ROSS', 'NOTTOWAY', 'LAKE', 'FRANKLIN', 'BOTETOURT', 'BLAIR', 'TYLER', 'POQUOSON CITY', 'TODD', 'PAGE', 'SUMMIT', 'CALLOWAY', 'CALHOUN', 'SUSQUEHANNA', 'CARTER', 'ROBERTSON', 'ALLEN', 'FREDERICK', 'BALLARD', 'UNION', 'NOBLE', 'MEADE', 'LYON', 'MUSKINGUM', 'LANCASTER', 'CHARLOTTESVILLE CITY', 'MCLEAN', 'SCOTT', 'FAUQUIER', 'YORK', 'PORTAGE', 'WISE', 'MIFFLIN', 'PRINCE GEORGE', 'COLUMBIANA', 'SULLIVAN', 'TRIGG', 'WHITLEY', 'BREATHITT', 'NELSON', 'HOLMES', 'GLOUCESTER', 'GEAUGA', 'ADAIR', 'PENDLETON', 'LOUISA', 'SURRY', 'BELL', 'AMELIA', 'GREENUP', 'FLUVANNA', 'MECKLENBURG', 'BROOKE', 'GREENSVILLE', 'TAZEWELL', 'KING AND QUEEN', 'KENTON', 'JOHNSON', 'FLEMING', 'CABELL', 'ALEXANDRIA CITY', 'WAYNE', 'VINTON', 'GREENE', 'HARDIN', 'BERKS', 'AUGUSTA', 'MAHONING', 'BRADFORD', 'MCKEAN', 'ELK', 'GILES', 'PITTSYLVANIA', 'TRUMBULL', 'ATHENS', 'TUCKER', 'CLARK', 'BRACKEN', 'STARK', 'GRANT', 'CLERMONT', 'VAN WERT', 'HAMPTON CITY', 'HARRISONBURG CITY', 'BOYLE', 'DINWIDDIE', 'HENRY', 'MORROW', 'SOMERSET', 'GALLATIN', 'BUCKS', 'PERRY', 'LARUE', 'SMYTH', 'MADISON', 'BRECKINRIDGE', 'APPOMATTOX', 'NEW KENT', 'POWELL', 'SHELBY', 'SPOTSYLVANIA', 'MARTINSVILLE CITY', 'ARLINGTON', 'FREDERICKSBURG CITY', 'HANOVER', 'ROCKINGHAM', 'CAMBRIA', 'BATH', 'PRINCE EDWARD', 'HARLAN', 'ROCKBRIDGE', 'LAUREL', 'CLAY', 'ERIE', 'FALLS CHURCH CITY', 'BUCHANAN', 'HOCKING', 'RITCHIE', 'KING WILLIAM', 'PRINCE WILLIAM', 'BROWN', 'LAWRENCE', 'OHIO', 'PLEASANTS', 'NORTON CITY', 'ROCKCASTLE', 'WOODFORD', 'STAFFORD', 'EMPORIA CITY', 'DAUPHIN', 'DANVILLE CITY', 'AMHERST', 'MIAMI', 'ANDERSON', 'LUCAS', 'DODDRIDGE', 'LEHIGH', 'WOOD', 'EDMONSON', 'AUGLAIZE', 'RUSSELL', 'PAULDING', 'LETCHER', 'CHESTERFIELD', 'CAMERON', 'BUTLER', 'SCIOTO', 'BLAND', 'RICHMOND', 'CLINTON', 'BRUNSWICK', 'NICHOLAS', 'CRAWFORD', 'CUYAHOGA', 'RANDOLPH', 'WESTMORELAND', 'MONONGALIA', 'FAIRFAX', 'LESLIE', 'FLOYD', 'DAVIESS', 'BRISTOL', 'KANAWHA', 'TRIMBLE', 'HURON', 'WASHINGTON', 'ESSEX', 'HOPKINS', 'SUSSEX', 'ROANOKE', 'CARLISLE', 'KING GEORGE', 'MAGOFFIN', 'HENDERSON', 'GALLIA', 'METCALFE', 'GOOCHLAND', 'SENECA', 'RADFORD', 'NEWPORT NEWS CITY', 'LOUDOUN', 'FAYETTE', 'CAROLINE', 'HALIFAX', 'ALLEGHANY', 'MIDDLESEX', 'OWSLEY', 'FOREST', 'DEFIANCE', 'HIGHLAND', 'CLEARFIELD', 'KNOTT', 'MINERAL', 'TUSCARAWAS', 'CUMBERLAND']"
   ]
  },
  {
   "cell_type": "code",
   "execution_count": 27,
   "metadata": {},
   "outputs": [
    {
     "name": "stdout",
     "output_type": "stream",
     "text": [
      "               YYYY    FIPS_State   FIPS_County  FIPS_Combined   DrugReports  \\\n",
      "count  24062.000000  24062.000000  24062.000000   24062.000000  24062.000000   \n",
      "mean    2013.719018     39.642715    114.497839   39757.212493     25.369545   \n",
      "std        2.347137     11.288284    133.005612   11300.941194    145.808411   \n",
      "min     2010.000000     21.000000      1.000000   21001.000000      1.000000   \n",
      "25%     2012.000000     39.000000     43.000000   39015.000000      1.000000   \n",
      "50%     2014.000000     42.000000     87.000000   42005.000000      4.000000   \n",
      "75%     2016.000000     51.000000    141.000000   51069.000000     13.000000   \n",
      "max     2017.000000     54.000000    840.000000   54109.000000   5075.000000   \n",
      "\n",
      "       TotalDrugReportsCounty  TotalDrugReportsState  \n",
      "count            24062.000000           24062.000000  \n",
      "mean               991.824869           56083.943895  \n",
      "std               2598.556115           33602.211295  \n",
      "min                  1.000000            3672.000000  \n",
      "25%                136.000000           28285.000000  \n",
      "50%                314.000000           41462.000000  \n",
      "75%                737.000000           78577.000000  \n",
      "max              33513.000000          119349.000000  \n",
      "['HAMILTON', 'ROANE', 'SUMMERS', 'BOYD', 'GRAVES', 'OLDHAM', 'HENRICO', 'WYTHE', 'MONROE', 'ORANGE', 'WARREN', 'CENTRE', 'CARBON', 'COLONIAL HEIGHTS CITY', 'ASHLAND', 'LEE', 'HOPEWELL CITY', 'MCDOWELL', 'CHESTER', 'BEAVER', 'PHILADELPHIA', 'MEIGS', 'DELAWARE', 'CASEY', 'SPENCER', 'JUNIATA', 'WEBSTER', 'SUFFOLK CITY', 'TIOGA', 'CHAMPAIGN', 'LACKAWANNA', 'MINGO', 'PETERSBURG CITY', 'CARROLL', 'ASHTABULA', 'BERKELEY', 'RAPPAHANNOCK', 'DARKE', 'LEWIS', 'SHENANDOAH', 'HUNTINGDON', 'LYNCHBURG CITY', 'RALEIGH', 'POCAHONTAS', 'MORGAN', 'DICKENSON', 'MUHLENBERG', 'COSHOCTON', 'ADAMS', 'ARMSTRONG', 'CHESAPEAKE CITY', 'INDIANA', 'PIKE', 'OTTAWA', 'GALAX CITY', 'LEXINGTON CITY', 'MASON', 'LEBANON', 'VIRGINIA BEACH CITY', 'JACKSON', 'MARION', 'MARSHALL', 'SOUTHAMPTON', 'WILLIAMSBURG CITY', 'ESTILL', 'MERCER', 'BOONE', 'MEDINA', 'CLARION', 'POWHATAN', 'BUCKINGHAM', 'CRITTENDEN', 'SCHUYLKILL', 'ALBEMARLE', 'HARRISON', 'LUNENBURG', 'OWEN', 'NORFOLK CITY', 'PORTSMOUTH CITY', 'CLARKE', 'MCCREARY', 'MARTIN', 'BUENA VISTA CITY', 'LORAIN', 'GARRARD', 'JEFFERSON', 'GILMER', 'WYOMING', 'WAYNESBORO CITY', 'STAUNTON CITY', 'FULTON', 'NORTHAMPTON', 'WETZEL', 'LICKING', 'CAMPBELL', 'WOLFE', 'FAIRFIELD', 'MONTGOMERY', 'GUERNSEY', 'PATRICK', 'LINCOLN', 'BARBOUR', 'HARDY', 'ACCOMACK', 'GREEN', 'HART', 'PUTNAM', 'CHARLES CITY', 'SNYDER', 'WYANDOT', 'FAIRFAX CITY', 'VENANGO', 'MENIFEE', 'ROWAN', 'SANDUSKY', 'JAMES CITY', 'BELMONT', 'WILLIAMS', 'PRESTON', 'LIVINGSTON', 'COLUMBIA', 'TAYLOR', 'MONTOUR', 'ISLE OF WIGHT', 'SIMPSON', 'GREENBRIER', 'UPSHUR', 'BRAXTON', 'MANASSAS CITY', 'BEDFORD', 'CRAIG', 'LYCOMING', 'CHARLOTTE', 'FRANKLIN CITY', 'MATHEWS', 'CALDWELL', 'KNOX', 'PREBLE', 'PICKAWAY', 'CULPEPER', 'GRAYSON', 'POTTER', 'ALLEGHENY', 'BULLITT', 'HANCOCK', 'LOGAN', 'WINCHESTER CITY', 'BEDFORD CITY', 'JESSAMINE', 'HAMPSHIRE', 'ELLIOTT', 'LUZERNE', 'COVINGTON CITY', 'WIRT', 'NORTHUMBERLAND', 'HICKMAN', 'SALEM', 'BARREN', 'CHRISTIAN', 'PULASKI', 'MCCRACKEN', 'BOURBON', 'RICHLAND', 'ROSS', 'NOTTOWAY', 'LAKE', 'FRANKLIN', 'BOTETOURT', 'BLAIR', 'TYLER', 'POQUOSON CITY', 'TODD', 'PAGE', 'SUMMIT', 'CALLOWAY', 'CALHOUN', 'SUSQUEHANNA', 'CARTER', 'ROBERTSON', 'ALLEN', 'FREDERICK', 'BALLARD', 'UNION', 'NOBLE', 'MEADE', 'LYON', 'MUSKINGUM', 'LANCASTER', 'CHARLOTTESVILLE CITY', 'MCLEAN', 'SCOTT', 'FAUQUIER', 'YORK', 'PORTAGE', 'WISE', 'MIFFLIN', 'PRINCE GEORGE', 'COLUMBIANA', 'SULLIVAN', 'TRIGG', 'WHITLEY', 'BREATHITT', 'NELSON', 'HOLMES', 'GLOUCESTER', 'GEAUGA', 'ADAIR', 'PENDLETON', 'LOUISA', 'SURRY', 'BELL', 'AMELIA', 'GREENUP', 'FLUVANNA', 'MECKLENBURG', 'BROOKE', 'GREENSVILLE', 'TAZEWELL', 'KING AND QUEEN', 'KENTON', 'JOHNSON', 'FLEMING', 'CABELL', 'ALEXANDRIA CITY', 'WAYNE', 'VINTON', 'GREENE', 'HARDIN', 'BERKS', 'AUGUSTA', 'MAHONING', 'BRADFORD', 'MCKEAN', 'ELK', 'GILES', 'PITTSYLVANIA', 'TRUMBULL', 'ATHENS', 'TUCKER', 'CLARK', 'BRACKEN', 'STARK', 'GRANT', 'CLERMONT', 'VAN WERT', 'HAMPTON CITY', 'HARRISONBURG CITY', 'BOYLE', 'DINWIDDIE', 'HENRY', 'MORROW', 'SOMERSET', 'GALLATIN', 'BUCKS', 'PERRY', 'LARUE', 'SMYTH', 'MADISON', 'BRECKINRIDGE', 'APPOMATTOX', 'NEW KENT', 'POWELL', 'SHELBY', 'SPOTSYLVANIA', 'MARTINSVILLE CITY', 'ARLINGTON', 'FREDERICKSBURG CITY', 'HANOVER', 'ROCKINGHAM', 'CAMBRIA', 'BATH', 'PRINCE EDWARD', 'HARLAN', 'ROCKBRIDGE', 'LAUREL', 'CLAY', 'ERIE', 'FALLS CHURCH CITY', 'BUCHANAN', 'HOCKING', 'RITCHIE', 'KING WILLIAM', 'PRINCE WILLIAM', 'BROWN', 'LAWRENCE', 'OHIO', 'PLEASANTS', 'NORTON CITY', 'ROCKCASTLE', 'WOODFORD', 'STAFFORD', 'EMPORIA CITY', 'DAUPHIN', 'DANVILLE CITY', 'AMHERST', 'MIAMI', 'ANDERSON', 'LUCAS', 'DODDRIDGE', 'LEHIGH', 'WOOD', 'EDMONSON', 'AUGLAIZE', 'RUSSELL', 'PAULDING', 'LETCHER', 'CHESTERFIELD', 'CAMERON', 'BUTLER', 'SCIOTO', 'BLAND', 'RICHMOND', 'CLINTON', 'BRUNSWICK', 'NICHOLAS', 'CRAWFORD', 'CUYAHOGA', 'RANDOLPH', 'WESTMORELAND', 'MONONGALIA', 'FAIRFAX', 'LESLIE', 'FLOYD', 'DAVIESS', 'BRISTOL', 'KANAWHA', 'TRIMBLE', 'HURON', 'WASHINGTON', 'ESSEX', 'HOPKINS', 'SUSSEX', 'ROANOKE', 'CARLISLE', 'KING GEORGE', 'MAGOFFIN', 'HENDERSON', 'GALLIA', 'METCALFE', 'GOOCHLAND', 'SENECA', 'RADFORD', 'NEWPORT NEWS CITY', 'LOUDOUN', 'FAYETTE', 'CAROLINE', 'HALIFAX', 'ALLEGHANY', 'MIDDLESEX', 'OWSLEY', 'FOREST', 'DEFIANCE', 'HIGHLAND', 'CLEARFIELD', 'KNOTT', 'MINERAL', 'TUSCARAWAS', 'CUMBERLAND']\n"
     ]
    }
   ],
   "source": [
    "excel = readExcel()\n",
    "print(excel.describe())\n",
    "counties = getCounties()\n",
    "print(counties)"
   ]
  },
  {
   "cell_type": "code",
   "execution_count": 31,
   "metadata": {},
   "outputs": [
    {
     "name": "stdout",
     "output_type": "stream",
     "text": [
      "YYYY\n",
      "State\n",
      "COUNTY\n",
      "FIPS_State\n",
      "FIPS_County\n",
      "FIPS_Combined\n",
      "SubstanceName\n",
      "DrugReports\n",
      "TotalDrugReportsCounty\n",
      "TotalDrugReportsState\n"
     ]
    }
   ],
   "source": [
    "for data in excel:\n",
    "    print(data)\n",
    "    if all((data[0] == '2010', data[1] == 'VA')):\n",
    "        print(data[2], data[-2])"
   ]
  },
  {
   "cell_type": "code",
   "execution_count": 54,
   "metadata": {},
   "outputs": [],
   "source": [
    "data2010 = []\n",
    "for i in range(len(excel)):\n",
    "    serie = excel.loc[i, :].tolist()\n",
    "    if serie[0] == 2010:\n",
    "        data2010.append(serie)"
   ]
  },
  {
   "cell_type": "code",
   "execution_count": 55,
   "metadata": {},
   "outputs": [
    {
     "data": {
      "text/plain": [
       "2836"
      ]
     },
     "execution_count": 55,
     "metadata": {},
     "output_type": "execute_result"
    }
   ],
   "source": [
    "len(data2010)"
   ]
  },
  {
   "cell_type": "code",
   "execution_count": null,
   "metadata": {},
   "outputs": [],
   "source": []
  }
 ],
 "metadata": {
  "kernelspec": {
   "display_name": "Python 3",
   "language": "python",
   "name": "python3"
  },
  "language_info": {
   "codemirror_mode": {
    "name": "ipython",
    "version": 3
   },
   "file_extension": ".py",
   "mimetype": "text/x-python",
   "name": "python",
   "nbconvert_exporter": "python",
   "pygments_lexer": "ipython3",
   "version": "3.6.8"
  }
 },
 "nbformat": 4,
 "nbformat_minor": 2
}
