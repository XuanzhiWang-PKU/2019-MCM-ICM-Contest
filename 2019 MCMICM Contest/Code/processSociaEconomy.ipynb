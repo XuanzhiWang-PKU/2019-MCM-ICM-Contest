{
 "cells": [
  {
   "cell_type": "code",
   "execution_count": 1,
   "metadata": {},
   "outputs": [],
   "source": [
    "import pandas as pd\n",
    "import plotly.offline as py\n",
    "import plotly.figure_factory as ff"
   ]
  },
  {
   "cell_type": "code",
   "execution_count": 2,
   "metadata": {},
   "outputs": [],
   "source": [
    "def getCode2Name():\n",
    "    excel_orig = pd.read_excel('../2019_MCMProblemC_DATA/MCM_NFLIS_Data.xlsx', sheet_name='Data')\n",
    "    all_counties = set(excel_orig['FIPS_Combined'].tolist())\n",
    "    countyCode2Name = {}\n",
    "    for i in range(len(excel_orig)):\n",
    "        data = excel_orig.iloc[i]\n",
    "        countyCode2Name[data['FIPS_Combined']] = data['State'] + ', ' + data['COUNTY']\n",
    "    return countyCode2Name\n",
    "def getName2Code():\n",
    "    code2name = getCode2Name()\n",
    "    return {v: k for k, v in code2name.items()}"
   ]
  },
  {
   "cell_type": "code",
   "execution_count": 3,
   "metadata": {},
   "outputs": [],
   "source": [
    "name2Code = getName2Code()"
   ]
  },
  {
   "cell_type": "code",
   "execution_count": 4,
   "metadata": {},
   "outputs": [
    {
     "name": "stdout",
     "output_type": "stream",
     "text": [
      "[54019, 54097, 42055, 42031, 42095, 54079, 54011, 21165, 51053, 54015, 54003, 54085, 42077, 51157, 21111, 42057, 54069, 21131, 39045, 51197, 21223, 54101, 54067, 54041, 21177, 51550, 51690, 51590, 51600, 51775, 51570, 51710, 51760, 51680, 51840, 51620, 51770, 51800, 51750, 54025, 39099, 21195, 54093, 42053, 51085, 21113, 51043, 54043, 51091, 54023, 42097, 21187, 39097, 21239, 51109, 21053, 51065, 42081, 42039, 51683, 54055, 21161, 21043, 54039, 21169, 51045, 54061, 51071, 21235, 42101, 42041, 51111, 54049, 54059, 51127, 42091, 51081, 21233, 21191, 51155, 21133, 51107, 42063, 21019, 42129, 39145, 42113, 54109, 39065, 39069, 51061, 42017, 42065, 42105, 21005, 54045, 21201, 39075, 51147, 54005, 54077, 39123, 39105, 42123, 42027, 54031, 54037, 21163, 39133, 42015, 51093, 51195, 42021, 51067, 54091, 42025, 21089, 51115, 42073, 51036, 54073, 42093, 39003, 42085, 39013, 21037, 54033, 54017, 51069, 39117, 42037, 51131, 42023, 42099, 42117, 39173, 51037, 51041, 51187, 51810, 51670, 51540, 51650, 51790, 54029, 51820, 51730, 51630, 51735, 51740, 51530, 51678, 51830, 51520, 51515, 21181, 51610, 51700, 21073, 51510, 51660, 21017, 51640, 21027, 21127, 21147, 54089, 51049, 21219, 54047, 39131, 39057, 39149, 39127, 21121, 39039, 39021, 21221, 42003, 39139, 21115, 39079, 51181, 54001]\n",
      "[1, 1, 1, 1, 1, 1, 1, 1, 1, 1, 1, 1, 1, 1, 1, 1, 1, 1, 2, 2, 2, 2, 2, 2, 2, 3, 3, 3, 3, 3, 3, 3, 3, 3, 3, 3, 3, 3, 3, 4, 4, 5, 5, 5, 5, 5, 5, 5, 6, 6, 6, 6, 6, 6, 6, 6, 7, 7, 7, 1, 1, 1, 1, 1, 1, 1, 1, 1, 1, 1, 1, 1, 1, 1, 1, 1, 1, 1, 1, 1, 1, 1, 1, 1, 1, 1, 1, 1, 1, 1, 1, 1, 1, 1, 1, 1, 1, 1, 1, 1, 1, 1, 1, 1, 1, 1, 1, 2, 2, 2, 2, 2, 2, 2, 2, 2, 2, 2, 2, 2, 2, 2, 2, 2, 2, 2, 2, 2, 2, 2, 2, 2, 2, 2, 2, 2, 2, 2, 2, 3, 3, 3, 3, 3, 3, 3, 3, 3, 3, 3, 3, 3, 3, 3, 3, 3, 3, 3, 3, 3, 3, 3, 3, 3, 3, 3, 3, 3, 4, 4, 4, 4, 4, 4, 4, 4, 4, 4, 4, 4, 4, 4, 5, 5]\n"
     ]
    }
   ],
   "source": [
    "sevenClasses = pd.read_excel('7类.xlsx')\n",
    "counties = sevenClasses['county'].tolist()\n",
    "fips = [name2Code[c] for c in counties]\n",
    "classes = sevenClasses['class'].tolist()\n",
    "print(fips)\n",
    "print(classes)"
   ]
  },
  {
   "cell_type": "code",
   "execution_count": 12,
   "metadata": {},
   "outputs": [
    {
     "data": {
      "text/plain": [
       "'file:///mnt/e/Desktop/MCM/2019_MCM-ICM_Problems/Code/sevenClasses.html'"
      ]
     },
     "execution_count": 12,
     "metadata": {},
     "output_type": "execute_result"
    }
   ],
   "source": [
    "# endpts = [0, 1, 2, 500, 1000, 3000, 5000]\n",
    "colorscale = [\n",
    "    'rgb(69,117,180)',\n",
    "    'rgb(116,173,209)',\n",
    "    'rgb(171,217,233)',\n",
    "    'rgb(224,243,248)',\n",
    "    'rgb(254,224,144)',\n",
    "    'rgb(253,174,97)',\n",
    "    'rgb(244,109,67)',\n",
    "    'rgb(215,48,39)'\n",
    "]\n",
    "\n",
    "fig = ff.create_choropleth(\n",
    "    fips=fips, values=classes,\n",
    "    scope=['KY', 'OH', 'WV', 'VA', 'PA'],\n",
    "    county_outline={'color': 'rgb(0,0,0)', 'width': 0.5},\n",
    "    state_outline={'color': 'rgb(200,200,200)', 'width': 3},\n",
    "    legend_title='Region',\n",
    "    show_state_data=True,\n",
    "    show_hover=True,\n",
    "    colorscale=colorscale,\n",
    "    simplify_county=0,\n",
    "    simplify_state=0,\n",
    "#     round_legend_values=True\n",
    ")\n",
    "fig['layout']['legend'].update({'x': 0})\n",
    "fig['layout']['annotations'][0].update({'x': 0, 'xanchor': 'left'})\n",
    "py.plot(fig, filename='sevenClasses.html')"
   ]
  },
  {
   "cell_type": "code",
   "execution_count": null,
   "metadata": {},
   "outputs": [],
   "source": []
  }
 ],
 "metadata": {
  "kernelspec": {
   "display_name": "Python 3",
   "language": "python",
   "name": "python3"
  },
  "language_info": {
   "codemirror_mode": {
    "name": "ipython",
    "version": 3
   },
   "file_extension": ".py",
   "mimetype": "text/x-python",
   "name": "python",
   "nbconvert_exporter": "python",
   "pygments_lexer": "ipython3",
   "version": "3.6.7"
  }
 },
 "nbformat": 4,
 "nbformat_minor": 2
}
